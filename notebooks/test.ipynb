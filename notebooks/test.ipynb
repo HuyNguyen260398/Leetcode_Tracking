{
 "cells": [
  {
   "cell_type": "code",
   "execution_count": 9,
   "metadata": {},
   "outputs": [
    {
     "name": "stdout",
     "output_type": "stream",
     "text": [
      "last_idx = 4\n",
      "current_idx = 0\n",
      "steps = 2\n",
      "jumped value = 1\n",
      "current_idx = 1\n",
      "steps = 3\n",
      "jumped value = 4\n",
      "True\n",
      "==================================\n",
      "last_idx = 4\n",
      "current_idx = 0\n",
      "steps = 3\n",
      "jumped value = 0\n",
      "current_idx = 1\n",
      "steps = 2\n",
      "jumped value = 0\n",
      "current_idx = 2\n",
      "steps = 1\n",
      "jumped value = 0\n",
      "current_idx = 3\n",
      "steps = 0\n",
      "jumped value = 0\n",
      "False\n",
      "==================================\n",
      "last_idx = 0\n",
      "False\n"
     ]
    }
   ],
   "source": [
    "nums1 = [2,3,1,1,4]\n",
    "nums2 = [3,2,1,0,4]\n",
    "nums3 = [0]\n",
    "\n",
    "def canJump(nums: list[int]) -> bool:\n",
    "        last_idx = nums[-1]\n",
    "        print(f\"last_idx = {last_idx}\")\n",
    "        for i in range(0, len(nums)-1):\n",
    "            current_idx = i\n",
    "            print(f\"current_idx = {current_idx}\")\n",
    "            steps = nums[i]\n",
    "            print(f\"steps = {steps}\")\n",
    "            print(f\"jumped value = {nums[i + steps]}\")\n",
    "            if nums[i + steps] == last_idx:\n",
    "                return True\n",
    "        return False\n",
    "\n",
    "print(canJump(nums=nums1))\n",
    "print(\"==================================\")\n",
    "print(canJump(nums=nums2))\n",
    "print(\"==================================\")\n",
    "print(canJump(nums=nums3))"
   ]
  },
  {
   "cell_type": "code",
   "execution_count": null,
   "metadata": {},
   "outputs": [],
   "source": []
  }
 ],
 "metadata": {
  "kernelspec": {
   "display_name": ".venv",
   "language": "python",
   "name": "python3"
  },
  "language_info": {
   "codemirror_mode": {
    "name": "ipython",
    "version": 3
   },
   "file_extension": ".py",
   "mimetype": "text/x-python",
   "name": "python",
   "nbconvert_exporter": "python",
   "pygments_lexer": "ipython3",
   "version": "3.11.2"
  }
 },
 "nbformat": 4,
 "nbformat_minor": 2
}
